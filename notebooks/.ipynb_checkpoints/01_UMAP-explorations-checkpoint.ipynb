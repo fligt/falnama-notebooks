{
 "cells": [
  {
   "cell_type": "markdown",
   "id": "d2eceda7-be72-4a94-a3fa-11180211d729",
   "metadata": {},
   "source": [
    "# UMAP explorations"
   ]
  },
  {
   "cell_type": "markdown",
   "id": "cd4381ab-dbb6-4783-8909-f330ccfa0cfc",
   "metadata": {},
   "source": [
    "<hr>\n",
    "2025-03-25 \n",
    "\n",
    "## The problem with hotmax atlas \n",
    "\n",
    "I think now that there is a very serious problem with the fundamental *hotmax* approach of the `maxrf4u` package. In the case of complex objects with a large number "
   ]
  },
  {
   "cell_type": "code",
   "execution_count": null,
   "id": "56126530-b76e-4b30-9809-4e87d0dff08b",
   "metadata": {},
   "outputs": [],
   "source": []
  }
 ],
 "metadata": {
  "kernelspec": {
   "display_name": "Python 3 (ipykernel)",
   "language": "python",
   "name": "python3"
  },
  "language_info": {
   "codemirror_mode": {
    "name": "ipython",
    "version": 3
   },
   "file_extension": ".py",
   "mimetype": "text/x-python",
   "name": "python",
   "nbconvert_exporter": "python",
   "pygments_lexer": "ipython3"
  }
 },
 "nbformat": 4,
 "nbformat_minor": 5
}
