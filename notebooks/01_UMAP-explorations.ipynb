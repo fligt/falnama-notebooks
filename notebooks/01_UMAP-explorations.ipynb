{
 "cells": [
  {
   "cell_type": "markdown",
   "id": "d2eceda7-be72-4a94-a3fa-11180211d729",
   "metadata": {},
   "source": [
    "# UMAP explorations"
   ]
  },
  {
   "cell_type": "markdown",
   "id": "cd4381ab-dbb6-4783-8909-f330ccfa0cfc",
   "metadata": {},
   "source": [
    "<hr>\n",
    "2025-03-25   \n",
    "\n",
    "## The problem with hotmax  \n",
    "\n",
    "I think now that there is a very serious problem with the  *hotmax* peak scanning approach of the `maxrf4u` package. In the case of complex objects with a large number of elements present, it seems to be the case we do not locate all peaks , due to shadowing by other peaks. Perhaps the only way we can fix this while managing one million spectra is by application of the UMAP algorithm. However, before looking into UMAP, we need too confirm this problem. Let's take a look again at our page 01 datastack. "
   ]
  },
  {
   "cell_type": "code",
   "execution_count": null,
   "id": "56126530-b76e-4b30-9809-4e87d0dff08b",
   "metadata": {},
   "outputs": [],
   "source": [
    "from glob import glob\n",
    "import maxrf4u as mx \n",
    "import numpy as np \n",
    "import matplotlib.pyplot as plt \n",
    "import moseley as mos"
   ]
  },
  {
   "cell_type": "code",
   "execution_count": null,
   "id": "566bcbb1-9de2-4c0e-8404-2c509026b94f",
   "metadata": {},
   "outputs": [],
   "source": [
    "datastack_file = '/home/frank/Work/DATA/falnama-data/WM-71803-01_400_600_50.datastack'"
   ]
  },
  {
   "cell_type": "code",
   "execution_count": null,
   "id": "f0614cc0-8648-4279-9c05-9c14d7812b58",
   "metadata": {},
   "outputs": [],
   "source": [
    "ds = mx.DataStack(datastack_file)"
   ]
  },
  {
   "cell_type": "code",
   "execution_count": null,
   "id": "4493c78d-235a-4509-b1b3-d2975adf5924",
   "metadata": {},
   "outputs": [],
   "source": [
    "ds.tree()"
   ]
  },
  {
   "cell_type": "code",
   "execution_count": null,
   "id": "b0cf648f-820b-43e3-9bbe-f2c29c113bbb",
   "metadata": {},
   "outputs": [],
   "source": [
    "hma = mx.HotmaxAtlas(datastack_file)"
   ]
  },
  {
   "cell_type": "code",
   "execution_count": null,
   "id": "10c4d016-6853-4041-b954-07e82a5e0be7",
   "metadata": {},
   "outputs": [],
   "source": [
    "%matplotlib widget"
   ]
  },
  {
   "cell_type": "code",
   "execution_count": null,
   "id": "bf9a6720-5e17-4f58-8572-d32f9afa041d",
   "metadata": {},
   "outputs": [],
   "source": [
    "hma.plot_spectra(svg=False)"
   ]
  },
  {
   "cell_type": "code",
   "execution_count": null,
   "id": "c161e8f8-2450-44f3-a81b-dc21e9ee25d6",
   "metadata": {},
   "outputs": [],
   "source": [
    "n = hma.finder('K')\n",
    "n"
   ]
  },
  {
   "cell_type": "markdown",
   "id": "6cb034a4-d281-4f88-8296-8f16d77bb843",
   "metadata": {},
   "source": [
    "**Indeed, we can not find potassium. Why is that?** "
   ]
  },
  {
   "cell_type": "code",
   "execution_count": null,
   "id": "a11679f7-da88-4488-8438-2bde83a087da",
   "metadata": {},
   "outputs": [],
   "source": [
    "elems = ['Au'] #['Ca', 'K', 'Sn', 'Pb', 'Zr', 'Au']\n",
    "xfs = [mos.XFluo(elem, 23) for elem in elems]"
   ]
  },
  {
   "cell_type": "code",
   "execution_count": null,
   "id": "e7c9e072-cd52-4325-a1fe-82c735262144",
   "metadata": {},
   "outputs": [],
   "source": [
    "fig, axs = plt.subplots(nrows=2, figsize=[12, 5], sharex=True)\n",
    "ax0, ax1 = axs.flatten()\n",
    "hma.plot_spectrum(1, ax=ax0)\n",
    "for xf in xfs: \n",
    "    xf.plot(ax=ax1)\n"
   ]
  },
  {
   "cell_type": "code",
   "execution_count": null,
   "id": "4e661a53-8a00-4331-81f0-b04b79e92320",
   "metadata": {},
   "outputs": [],
   "source": [
    "ppa = mx.Peak_Pattern_Atlas(datastack_file=datastack_file)\n",
    "ppa.update_eoi(['Ar', 'Zr', 'Rh'])\n",
    "ppa.plot_puzzle(1, select_elems=elems)"
   ]
  },
  {
   "cell_type": "code",
   "execution_count": null,
   "id": "6f512f71-0433-40cb-b85b-756a2ba05697",
   "metadata": {},
   "outputs": [],
   "source": []
  }
 ],
 "metadata": {
  "kernelspec": {
   "display_name": "Python 3 (ipykernel)",
   "language": "python",
   "name": "python3"
  },
  "language_info": {
   "codemirror_mode": {
    "name": "ipython",
    "version": 3
   },
   "file_extension": ".py",
   "mimetype": "text/x-python",
   "name": "python",
   "nbconvert_exporter": "python",
   "pygments_lexer": "ipython3"
  }
 },
 "nbformat": 4,
 "nbformat_minor": 5
}
