{
 "cells": [
  {
   "cell_type": "markdown",
   "id": "2ca49241-5f3e-4d3b-9205-3a0d70331a79",
   "metadata": {},
   "source": [
    "# Falnama on the world map "
   ]
  },
  {
   "cell_type": "markdown",
   "id": "72f17ff1-d04a-4bf9-9633-ae6f4a459fc5",
   "metadata": {},
   "source": [
    "https://github.com/jupyter-widgets/ipyleaflet/issues/64\n",
    "\n",
    "https://ipyleaflet.readthedocs.io/en/latest/controls/draw_control.html"
   ]
  },
  {
   "cell_type": "code",
   "execution_count": 24,
   "id": "d9f392b0-1299-490b-b4a7-dba024b8829d",
   "metadata": {
    "execution": {
     "iopub.execute_input": "2025-02-07T16:34:23.828768Z",
     "iopub.status.busy": "2025-02-07T16:34:23.828333Z",
     "iopub.status.idle": "2025-02-07T16:34:23.839254Z",
     "shell.execute_reply": "2025-02-07T16:34:23.838722Z",
     "shell.execute_reply.started": "2025-02-07T16:34:23.828747Z"
    }
   },
   "outputs": [
    {
     "data": {
      "application/vnd.jupyter.widget-view+json": {
       "model_id": "db01c6ad865b4f80807f8bb19b3911fd",
       "version_major": 2,
       "version_minor": 0
      },
      "text/plain": [
       "Map(center=[36.27970720524017, 39.19921875000001], controls=(ZoomControl(options=['position', 'zoom_in_text', …"
      ]
     },
     "execution_count": 24,
     "metadata": {},
     "output_type": "execute_result"
    }
   ],
   "source": [
    "from ipyleaflet import Map, basemaps, GeomanDrawControl\n",
    "\n",
    "center = [36.27970720524017, 39.19921875000001]\n",
    "zoom = 5\n",
    "\n",
    "m = Map(basemap=basemaps.Esri.NatGeoWorldMap, center=center, zoom=zoom)\n",
    "\n",
    "m.layout.width = '2320px'\n",
    "m.layout.height = '1720px'\n",
    "\n",
    "draw_control = GeomanDrawControl() \n",
    "\n",
    "m.add(draw_control)\n",
    "\n",
    "\n",
    "m"
   ]
  },
  {
   "cell_type": "code",
   "execution_count": 23,
   "id": "69d72e97-cf9e-499c-aaab-b5da1399fa60",
   "metadata": {
    "execution": {
     "iopub.execute_input": "2025-02-07T16:33:58.879132Z",
     "iopub.status.busy": "2025-02-07T16:33:58.878792Z",
     "iopub.status.idle": "2025-02-07T16:33:58.883873Z",
     "shell.execute_reply": "2025-02-07T16:33:58.883240Z",
     "shell.execute_reply.started": "2025-02-07T16:33:58.879102Z"
    }
   },
   "outputs": [
    {
     "data": {
      "text/plain": [
       "[36.27970720524017, 39.19921875000001]"
      ]
     },
     "execution_count": 23,
     "metadata": {},
     "output_type": "execute_result"
    }
   ],
   "source": [
    "m.center"
   ]
  },
  {
   "cell_type": "code",
   "execution_count": 17,
   "id": "f060e28b-bf69-4f35-bce5-a479f4f650e3",
   "metadata": {
    "execution": {
     "iopub.execute_input": "2025-02-07T15:46:29.038825Z",
     "iopub.status.busy": "2025-02-07T15:46:29.038571Z",
     "iopub.status.idle": "2025-02-07T15:46:29.042650Z",
     "shell.execute_reply": "2025-02-07T15:46:29.042017Z",
     "shell.execute_reply.started": "2025-02-07T15:46:29.038805Z"
    }
   },
   "outputs": [
    {
     "data": {
      "text/plain": [
       "2320"
      ]
     },
     "execution_count": 17,
     "metadata": {},
     "output_type": "execute_result"
    }
   ],
   "source": [
    "1160*2"
   ]
  },
  {
   "cell_type": "code",
   "execution_count": 18,
   "id": "f3d71b71-8e09-4d6d-b057-69a8e8c3d3d8",
   "metadata": {
    "execution": {
     "iopub.execute_input": "2025-02-07T15:46:46.160385Z",
     "iopub.status.busy": "2025-02-07T15:46:46.160052Z",
     "iopub.status.idle": "2025-02-07T15:46:46.164678Z",
     "shell.execute_reply": "2025-02-07T15:46:46.164201Z",
     "shell.execute_reply.started": "2025-02-07T15:46:46.160357Z"
    }
   },
   "outputs": [
    {
     "data": {
      "text/plain": [
       "1720"
      ]
     },
     "execution_count": 18,
     "metadata": {},
     "output_type": "execute_result"
    }
   ],
   "source": [
    "860*2"
   ]
  },
  {
   "cell_type": "code",
   "execution_count": null,
   "id": "63b6eedf-3421-4de3-bfa9-2cebf5e226f3",
   "metadata": {},
   "outputs": [],
   "source": []
  }
 ],
 "metadata": {
  "kernelspec": {
   "display_name": "Python 3 (ipykernel)",
   "language": "python",
   "name": "python3"
  },
  "language_info": {
   "codemirror_mode": {
    "name": "ipython",
    "version": 3
   },
   "file_extension": ".py",
   "mimetype": "text/x-python",
   "name": "python",
   "nbconvert_exporter": "python",
   "pygments_lexer": "ipython3",
   "version": "3.12.5"
  }
 },
 "nbformat": 4,
 "nbformat_minor": 5
}
